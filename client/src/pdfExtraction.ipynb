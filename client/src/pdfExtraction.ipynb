from tabula import read_pdf
from tabulate import tabulate

#reads table from pdf file
df = read_pdf("https://www.irs.gov/pub/irs-prior/i1040tt--2023.pdf", pages="3-14") 
df
